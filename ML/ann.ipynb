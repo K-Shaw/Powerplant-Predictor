{
 "cells": [
  {
   "cell_type": "code",
   "execution_count": 2,
   "metadata": {},
   "outputs": [],
   "source": [
    "import numpy as np\n",
    "import pandas as pd\n",
    "import tensorflow as tf\n",
    "from sklearn.model_selection import train_test_split\n",
    "from sklearn.preprocessing import StandardScaler"
   ]
  },
  {
   "cell_type": "code",
   "execution_count": 3,
   "metadata": {},
   "outputs": [],
   "source": [
    "# Load dataset\n",
    "data = pd.read_excel('data.xlsx')"
   ]
  },
  {
   "cell_type": "code",
   "execution_count": 4,
   "metadata": {},
   "outputs": [],
   "source": [
    "# Split features and target\n",
    "X = data.iloc[:, :-1]  # Independent variables\n",
    "y = data.iloc[:, -1]   # Dependent variable"
   ]
  },
  {
   "cell_type": "code",
   "execution_count": 5,
   "metadata": {},
   "outputs": [],
   "source": [
    "# Split dataset into training and testing sets\n",
    "X_train, X_test, y_train, y_test = train_test_split(X, y, test_size=0.2, random_state=42)"
   ]
  },
  {
   "cell_type": "code",
   "execution_count": 6,
   "metadata": {},
   "outputs": [],
   "source": [
    "# Standardize features\n",
    "scaler = StandardScaler()\n",
    "X_train_scaled = scaler.fit_transform(X_train)\n",
    "X_test_scaled = scaler.transform(X_test)"
   ]
  },
  {
   "cell_type": "code",
   "execution_count": 7,
   "metadata": {},
   "outputs": [],
   "source": [
    "# Initialize the ANN\n",
    "model = tf.keras.models.Sequential()"
   ]
  },
  {
   "cell_type": "code",
   "execution_count": 8,
   "metadata": {},
   "outputs": [],
   "source": [
    "# Add Input Layer\n",
    "model.add(tf.keras.layers.Dense(units=8, activation='relu', input_dim=X_train.shape[1]))"
   ]
  },
  {
   "cell_type": "code",
   "execution_count": 9,
   "metadata": {},
   "outputs": [],
   "source": [
    "# Add Hidden Layers\n",
    "model.add(tf.keras.layers.Dense(units=8, activation='relu'))\n",
    "model.add(tf.keras.layers.Dense(units=8, activation='relu'))"
   ]
  },
  {
   "cell_type": "code",
   "execution_count": 10,
   "metadata": {},
   "outputs": [],
   "source": [
    "# Add Output Layer\n",
    "model.add(tf.keras.layers.Dense(units=1))"
   ]
  },
  {
   "cell_type": "code",
   "execution_count": 11,
   "metadata": {},
   "outputs": [],
   "source": [
    "# Compile the Model\n",
    "model.compile(optimizer='adam', loss='mean_squared_error')"
   ]
  },
  {
   "cell_type": "code",
   "execution_count": 12,
   "metadata": {},
   "outputs": [
    {
     "name": "stdout",
     "output_type": "stream",
     "text": [
      "Epoch 1/100\n",
      "216/216 [==============================] - 4s 5ms/step - loss: 201971.7188 - val_loss: 186979.2188\n",
      "Epoch 2/100\n",
      "216/216 [==============================] - 1s 4ms/step - loss: 123595.9688 - val_loss: 44788.7852\n",
      "Epoch 3/100\n",
      "216/216 [==============================] - 1s 6ms/step - loss: 23978.7441 - val_loss: 16471.3535\n",
      "Epoch 4/100\n",
      "216/216 [==============================] - 1s 4ms/step - loss: 13358.1787 - val_loss: 10266.6523\n",
      "Epoch 5/100\n",
      "216/216 [==============================] - 1s 7ms/step - loss: 7934.1323 - val_loss: 5887.6758\n",
      "Epoch 6/100\n",
      "216/216 [==============================] - 1s 7ms/step - loss: 4317.4639 - val_loss: 3128.2920\n",
      "Epoch 7/100\n",
      "216/216 [==============================] - 1s 6ms/step - loss: 2212.7651 - val_loss: 1627.9669\n",
      "Epoch 8/100\n",
      "216/216 [==============================] - 1s 3ms/step - loss: 1176.4752 - val_loss: 919.5140\n",
      "Epoch 9/100\n",
      "216/216 [==============================] - 1s 4ms/step - loss: 691.7672 - val_loss: 567.7827\n",
      "Epoch 10/100\n",
      "216/216 [==============================] - 1s 5ms/step - loss: 445.7622 - val_loss: 384.2540\n",
      "Epoch 11/100\n",
      "216/216 [==============================] - 1s 5ms/step - loss: 307.6826 - val_loss: 271.1302\n",
      "Epoch 12/100\n",
      "216/216 [==============================] - 1s 3ms/step - loss: 222.8217 - val_loss: 198.6942\n",
      "Epoch 13/100\n",
      "216/216 [==============================] - 1s 3ms/step - loss: 165.6623 - val_loss: 152.5585\n",
      "Epoch 14/100\n",
      "216/216 [==============================] - 1s 6ms/step - loss: 127.6812 - val_loss: 118.3998\n",
      "Epoch 15/100\n",
      "216/216 [==============================] - 1s 5ms/step - loss: 100.9878 - val_loss: 95.8317\n",
      "Epoch 16/100\n",
      "216/216 [==============================] - 1s 5ms/step - loss: 82.5953 - val_loss: 79.0719\n",
      "Epoch 17/100\n",
      "216/216 [==============================] - 1s 3ms/step - loss: 69.6192 - val_loss: 68.0886\n",
      "Epoch 18/100\n",
      "216/216 [==============================] - 1s 6ms/step - loss: 59.8333 - val_loss: 59.4650\n",
      "Epoch 19/100\n",
      "216/216 [==============================] - 1s 6ms/step - loss: 52.5056 - val_loss: 52.2860\n",
      "Epoch 20/100\n",
      "216/216 [==============================] - 1s 5ms/step - loss: 46.2313 - val_loss: 46.7435\n",
      "Epoch 21/100\n",
      "216/216 [==============================] - 1s 3ms/step - loss: 41.4992 - val_loss: 42.9247\n",
      "Epoch 22/100\n",
      "216/216 [==============================] - 1s 4ms/step - loss: 37.7371 - val_loss: 38.3416\n",
      "Epoch 23/100\n",
      "216/216 [==============================] - 1s 3ms/step - loss: 34.3994 - val_loss: 35.6314\n",
      "Epoch 24/100\n",
      "216/216 [==============================] - 1s 3ms/step - loss: 31.8468 - val_loss: 33.4991\n",
      "Epoch 25/100\n",
      "216/216 [==============================] - 1s 4ms/step - loss: 29.7446 - val_loss: 31.3658\n",
      "Epoch 26/100\n",
      "216/216 [==============================] - 1s 3ms/step - loss: 27.9608 - val_loss: 29.0640\n",
      "Epoch 27/100\n",
      "216/216 [==============================] - 1s 3ms/step - loss: 26.4351 - val_loss: 28.6358\n",
      "Epoch 28/100\n",
      "216/216 [==============================] - 1s 3ms/step - loss: 25.3159 - val_loss: 26.2757\n",
      "Epoch 29/100\n",
      "216/216 [==============================] - 1s 3ms/step - loss: 24.3250 - val_loss: 26.1908\n",
      "Epoch 30/100\n",
      "216/216 [==============================] - 1s 3ms/step - loss: 23.5468 - val_loss: 26.1446\n",
      "Epoch 31/100\n",
      "216/216 [==============================] - 1s 3ms/step - loss: 22.8709 - val_loss: 23.0554\n",
      "Epoch 32/100\n",
      "216/216 [==============================] - 1s 6ms/step - loss: 22.3903 - val_loss: 22.3684\n",
      "Epoch 33/100\n",
      "216/216 [==============================] - 1s 5ms/step - loss: 22.1933 - val_loss: 23.8539\n",
      "Epoch 34/100\n",
      "216/216 [==============================] - 1s 3ms/step - loss: 21.8179 - val_loss: 21.2387\n",
      "Epoch 35/100\n",
      "216/216 [==============================] - 1s 3ms/step - loss: 21.6805 - val_loss: 22.5784\n",
      "Epoch 36/100\n",
      "216/216 [==============================] - 1s 3ms/step - loss: 21.4610 - val_loss: 20.8243\n",
      "Epoch 37/100\n",
      "216/216 [==============================] - 1s 3ms/step - loss: 21.1721 - val_loss: 20.3990\n",
      "Epoch 38/100\n",
      "216/216 [==============================] - 1s 3ms/step - loss: 21.0957 - val_loss: 20.0232\n",
      "Epoch 39/100\n",
      "216/216 [==============================] - 1s 5ms/step - loss: 20.8778 - val_loss: 21.2178\n",
      "Epoch 40/100\n",
      "216/216 [==============================] - 1s 4ms/step - loss: 20.7258 - val_loss: 21.8037\n",
      "Epoch 41/100\n",
      "216/216 [==============================] - 1s 4ms/step - loss: 20.7455 - val_loss: 21.0995\n",
      "Epoch 42/100\n",
      "216/216 [==============================] - 1s 4ms/step - loss: 20.6401 - val_loss: 19.9423\n",
      "Epoch 43/100\n",
      "216/216 [==============================] - 1s 5ms/step - loss: 20.8487 - val_loss: 26.4085\n",
      "Epoch 44/100\n",
      "216/216 [==============================] - 1s 6ms/step - loss: 20.4788 - val_loss: 21.7238\n",
      "Epoch 45/100\n",
      "216/216 [==============================] - 1s 3ms/step - loss: 20.5167 - val_loss: 19.8503\n",
      "Epoch 46/100\n",
      "216/216 [==============================] - 1s 4ms/step - loss: 20.6121 - val_loss: 20.1446\n",
      "Epoch 47/100\n",
      "216/216 [==============================] - 1s 4ms/step - loss: 20.0701 - val_loss: 19.2197\n",
      "Epoch 48/100\n",
      "216/216 [==============================] - 1s 6ms/step - loss: 20.0935 - val_loss: 20.2902\n",
      "Epoch 49/100\n",
      "216/216 [==============================] - 1s 5ms/step - loss: 20.3262 - val_loss: 19.0018\n",
      "Epoch 50/100\n",
      "216/216 [==============================] - 1s 6ms/step - loss: 19.9356 - val_loss: 19.4250\n",
      "Epoch 51/100\n",
      "216/216 [==============================] - 1s 4ms/step - loss: 20.0357 - val_loss: 19.1325\n",
      "Epoch 52/100\n",
      "216/216 [==============================] - 1s 4ms/step - loss: 20.4784 - val_loss: 19.6431\n",
      "Epoch 53/100\n",
      "216/216 [==============================] - 1s 3ms/step - loss: 19.9660 - val_loss: 19.1338\n",
      "Epoch 54/100\n",
      "216/216 [==============================] - 1s 3ms/step - loss: 20.2616 - val_loss: 19.9661\n",
      "Epoch 55/100\n",
      "216/216 [==============================] - 1s 4ms/step - loss: 20.2317 - val_loss: 18.9506\n",
      "Epoch 56/100\n",
      "216/216 [==============================] - 1s 3ms/step - loss: 20.0954 - val_loss: 18.4752\n",
      "Epoch 57/100\n",
      "216/216 [==============================] - 1s 3ms/step - loss: 19.8544 - val_loss: 18.9361\n",
      "Epoch 58/100\n",
      "216/216 [==============================] - 1s 3ms/step - loss: 19.8575 - val_loss: 18.5620\n",
      "Epoch 59/100\n",
      "216/216 [==============================] - 1s 3ms/step - loss: 20.3003 - val_loss: 18.5217\n",
      "Epoch 60/100\n",
      "216/216 [==============================] - 1s 3ms/step - loss: 19.8281 - val_loss: 19.1085\n",
      "Epoch 61/100\n",
      "216/216 [==============================] - 1s 3ms/step - loss: 19.9542 - val_loss: 18.5283\n",
      "Epoch 62/100\n",
      "216/216 [==============================] - 1s 3ms/step - loss: 20.2733 - val_loss: 18.8310\n",
      "Epoch 63/100\n",
      "216/216 [==============================] - 1s 4ms/step - loss: 19.6876 - val_loss: 18.1963\n",
      "Epoch 64/100\n",
      "216/216 [==============================] - 1s 6ms/step - loss: 19.7061 - val_loss: 19.1361\n",
      "Epoch 65/100\n",
      "216/216 [==============================] - 1s 6ms/step - loss: 19.9856 - val_loss: 18.3857\n",
      "Epoch 66/100\n",
      "216/216 [==============================] - 1s 6ms/step - loss: 19.9103 - val_loss: 18.4710\n",
      "Epoch 67/100\n",
      "216/216 [==============================] - 1s 5ms/step - loss: 19.4770 - val_loss: 18.1364\n",
      "Epoch 68/100\n",
      "216/216 [==============================] - 1s 4ms/step - loss: 19.8564 - val_loss: 18.4942\n",
      "Epoch 69/100\n",
      "216/216 [==============================] - 1s 3ms/step - loss: 19.5549 - val_loss: 21.5346\n",
      "Epoch 70/100\n",
      "216/216 [==============================] - 1s 3ms/step - loss: 19.5731 - val_loss: 19.7791\n",
      "Epoch 71/100\n",
      "216/216 [==============================] - 1s 4ms/step - loss: 19.5166 - val_loss: 18.9820\n",
      "Epoch 72/100\n",
      "216/216 [==============================] - 1s 5ms/step - loss: 19.6032 - val_loss: 20.7716\n",
      "Epoch 73/100\n",
      "216/216 [==============================] - 1s 5ms/step - loss: 20.1437 - val_loss: 18.9949\n",
      "Epoch 74/100\n",
      "216/216 [==============================] - 1s 3ms/step - loss: 19.4082 - val_loss: 17.8808\n",
      "Epoch 75/100\n",
      "216/216 [==============================] - 1s 3ms/step - loss: 19.4494 - val_loss: 18.5095\n",
      "Epoch 76/100\n",
      "216/216 [==============================] - 1s 3ms/step - loss: 19.9026 - val_loss: 18.4812\n",
      "Epoch 77/100\n",
      "216/216 [==============================] - 1s 3ms/step - loss: 19.8631 - val_loss: 18.4812\n",
      "Epoch 78/100\n",
      "216/216 [==============================] - 1s 3ms/step - loss: 19.7070 - val_loss: 19.4154\n",
      "Epoch 79/100\n",
      "216/216 [==============================] - 1s 3ms/step - loss: 19.7399 - val_loss: 19.7624\n",
      "Epoch 80/100\n",
      "216/216 [==============================] - 1s 6ms/step - loss: 19.7427 - val_loss: 18.8276\n",
      "Epoch 81/100\n",
      "216/216 [==============================] - 1s 4ms/step - loss: 19.4656 - val_loss: 18.6842\n",
      "Epoch 82/100\n",
      "216/216 [==============================] - 1s 3ms/step - loss: 19.3907 - val_loss: 18.6300\n",
      "Epoch 83/100\n",
      "216/216 [==============================] - 1s 6ms/step - loss: 19.4345 - val_loss: 18.9172\n",
      "Epoch 84/100\n",
      "216/216 [==============================] - 1s 3ms/step - loss: 19.4145 - val_loss: 18.0119\n",
      "Epoch 85/100\n",
      "216/216 [==============================] - 1s 3ms/step - loss: 19.3707 - val_loss: 18.5621\n",
      "Epoch 86/100\n",
      "216/216 [==============================] - 1s 3ms/step - loss: 19.7183 - val_loss: 17.8043\n",
      "Epoch 87/100\n",
      "216/216 [==============================] - 1s 4ms/step - loss: 19.2551 - val_loss: 18.3609\n",
      "Epoch 88/100\n",
      "216/216 [==============================] - 1s 5ms/step - loss: 19.2759 - val_loss: 18.8688\n",
      "Epoch 89/100\n",
      "216/216 [==============================] - 1s 5ms/step - loss: 19.2249 - val_loss: 19.0290\n",
      "Epoch 90/100\n",
      "216/216 [==============================] - 1s 5ms/step - loss: 19.3710 - val_loss: 17.9972\n",
      "Epoch 91/100\n",
      "216/216 [==============================] - 1s 3ms/step - loss: 19.2281 - val_loss: 18.6066\n",
      "Epoch 92/100\n",
      "216/216 [==============================] - 1s 3ms/step - loss: 19.8141 - val_loss: 17.8540\n",
      "Epoch 93/100\n",
      "216/216 [==============================] - 1s 3ms/step - loss: 19.5912 - val_loss: 17.5688\n",
      "Epoch 94/100\n",
      "216/216 [==============================] - 1s 3ms/step - loss: 19.1946 - val_loss: 19.6816\n",
      "Epoch 95/100\n",
      "216/216 [==============================] - 1s 3ms/step - loss: 19.8228 - val_loss: 18.3914\n",
      "Epoch 96/100\n",
      "216/216 [==============================] - 1s 4ms/step - loss: 19.1980 - val_loss: 18.1309\n",
      "Epoch 97/100\n",
      "216/216 [==============================] - 1s 6ms/step - loss: 19.5172 - val_loss: 18.6784\n",
      "Epoch 98/100\n",
      "216/216 [==============================] - 1s 5ms/step - loss: 19.4370 - val_loss: 19.5984\n",
      "Epoch 99/100\n",
      "216/216 [==============================] - 1s 3ms/step - loss: 19.6323 - val_loss: 17.7509\n",
      "Epoch 100/100\n",
      "216/216 [==============================] - 1s 3ms/step - loss: 19.1468 - val_loss: 19.4768\n"
     ]
    },
    {
     "data": {
      "text/plain": [
       "<keras.callbacks.History at 0x216360e31d0>"
      ]
     },
     "execution_count": 12,
     "metadata": {},
     "output_type": "execute_result"
    }
   ],
   "source": [
    "# Train the Model\n",
    "model.fit(X_train_scaled, y_train, epochs=100, batch_size=32, validation_split=0.1)"
   ]
  },
  {
   "cell_type": "code",
   "execution_count": 13,
   "metadata": {},
   "outputs": [
    {
     "name": "stdout",
     "output_type": "stream",
     "text": [
      "60/60 [==============================] - 0s 3ms/step - loss: 19.2077\n",
      "Test Loss: 19.207704544067383\n"
     ]
    }
   ],
   "source": [
    "# Evaluate the Model\n",
    "loss = model.evaluate(X_test_scaled, y_test)\n",
    "print(\"Test Loss:\", loss)"
   ]
  },
  {
   "cell_type": "code",
   "execution_count": 14,
   "metadata": {},
   "outputs": [
    {
     "name": "stdout",
     "output_type": "stream",
     "text": [
      "60/60 [==============================] - 1s 2ms/step\n"
     ]
    }
   ],
   "source": [
    "# Predict on test data\n",
    "y_pred = model.predict(X_test_scaled)"
   ]
  },
  {
   "cell_type": "code",
   "execution_count": 15,
   "metadata": {},
   "outputs": [],
   "source": [
    "# Convert y_pred to a DataFrame for easy comparison\n",
    "results = pd.DataFrame({'Independent Var 1': X_test.iloc[:, 0], \n",
    "                        'Independent Var 2': X_test.iloc[:, 1],\n",
    "                        'Independent Var 3': X_test.iloc[:, 2],\n",
    "                        'Independent Var 4': X_test.iloc[:, 3],\n",
    "                        'Actual Output': y_test, \n",
    "                        'Predicted Output': y_pred.flatten()})"
   ]
  },
  {
   "cell_type": "code",
   "execution_count": 16,
   "metadata": {},
   "outputs": [
    {
     "name": "stdout",
     "output_type": "stream",
     "text": [
      "      Independent Var 1  Independent Var 2  Independent Var 3   \n",
      "2513              19.64              48.06            1014.81  \\\n",
      "9411              28.26              69.23            1013.01   \n",
      "8745              27.98              67.17            1007.32   \n",
      "9085              28.64              69.23            1013.11   \n",
      "4950               9.34              38.08            1019.56   \n",
      "...                 ...                ...                ...   \n",
      "7204              29.06              64.96            1000.88   \n",
      "1599               9.87              40.81            1017.17   \n",
      "5697               8.02              39.04            1018.49   \n",
      "350               26.48              69.14            1009.31   \n",
      "6210              15.34              71.14            1019.79   \n",
      "\n",
      "      Independent Var 4  Actual Output  Predicted Output  \n",
      "2513              74.96         455.27        455.621857  \n",
      "9411              42.10         436.31        437.407898  \n",
      "8745              75.29         440.68        436.279510  \n",
      "9085              37.13         434.40        436.947327  \n",
      "4950              67.74         482.06        479.862946  \n",
      "...                 ...            ...               ...  \n",
      "7204              62.07         430.24        437.226959  \n",
      "1599              84.25         473.20        475.943359  \n",
      "5697              68.07         479.53        482.252777  \n",
      "350               84.11         435.76        435.409393  \n",
      "6210              77.56         457.10        458.343567  \n",
      "\n",
      "[1914 rows x 6 columns]\n"
     ]
    }
   ],
   "source": [
    "print(results)"
   ]
  },
  {
   "cell_type": "code",
   "execution_count": 17,
   "metadata": {},
   "outputs": [
    {
     "data": {
      "text/plain": [
       "['model.pkl']"
      ]
     },
     "execution_count": 17,
     "metadata": {},
     "output_type": "execute_result"
    }
   ],
   "source": [
    "import joblib\n",
    "joblib.dump(model, 'model.pkl')"
   ]
  },
  {
   "cell_type": "code",
   "execution_count": 18,
   "metadata": {},
   "outputs": [
    {
     "data": {
      "text/plain": [
       "['scaler.pkl']"
      ]
     },
     "execution_count": 18,
     "metadata": {},
     "output_type": "execute_result"
    }
   ],
   "source": [
    "joblib.dump(scaler, 'scaler.pkl')"
   ]
  }
 ],
 "metadata": {
  "kernelspec": {
   "display_name": "Python 3",
   "language": "python",
   "name": "python3"
  },
  "language_info": {
   "codemirror_mode": {
    "name": "ipython",
    "version": 3
   },
   "file_extension": ".py",
   "mimetype": "text/x-python",
   "name": "python",
   "nbconvert_exporter": "python",
   "pygments_lexer": "ipython3",
   "version": "3.11.3"
  }
 },
 "nbformat": 4,
 "nbformat_minor": 2
}
